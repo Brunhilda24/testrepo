{
 "cells": [
  {
   "cell_type": "markdown",
   "id": "60fc0b12-7ba2-4fd2-a9fc-a1e5bf8a550b",
   "metadata": {},
   "source": [
    "## Data Science Tools and Ecosystem"
   ]
  },
  {
   "cell_type": "markdown",
   "id": "fa5434f3-7bf6-4827-a60a-2311c88f4cdf",
   "metadata": {},
   "source": [
    "In this notebook, Data Science Tools and Ecosystem are summarized."
   ]
  },
  {
   "cell_type": "markdown",
   "id": "b66a9265-d29e-48fe-9428-694680a1fff4",
   "metadata": {},
   "source": [
    "Objectives:\n",
    "- List popular languages for Data Science\n",
    "- List Data Science libraries\n",
    "- Table of Data Science tools\n",
    "- Arithmetic expression examples"
   ]
  },
  {
   "cell_type": "markdown",
   "id": "96742bd7-922c-41d6-91cd-a86a298df55c",
   "metadata": {},
   "source": [
    "Some of the popular languages that Data Scientists use are:\n",
    "1. Python\n",
    "2. R\n",
    "3. SQL\n",
    "4. Scala\n",
    "5. Java\n",
    "6. C++\n",
    "7. Julia"
   ]
  },
  {
   "cell_type": "markdown",
   "id": "419cc0d0-ef6a-4c62-b21d-d9f2ae94061b",
   "metadata": {},
   "source": [
    "Some of the commonly used libraries used by Data Scientists include:\n",
    "1. Pandas\n",
    "2. NumPy\n",
    "3. Matplotlib\n",
    "4. Seaborn\n",
    "5. Scikit-learn\n",
    "6. Keras\n",
    "7. TensorFlow"
   ]
  },
  {
   "cell_type": "markdown",
   "id": "e90c7d77-5aea-436d-9f7e-a0849b4d244f",
   "metadata": {},
   "source": [
    "| Data Science Tools |\n",
    "|--------------------|\n",
    "|Jupyter Notebooks|\n",
    "|TensorFlow.js|\n",
    "|Ggplot2|"
   ]
  },
  {
   "cell_type": "markdown",
   "id": "992e04d8-3ee8-4168-be55-17ab0df718b1",
   "metadata": {},
   "source": [
    "### Below are a few examples of evaluating arithmetic expressions in Python"
   ]
  },
  {
   "cell_type": "code",
   "execution_count": 2,
   "id": "a3e176c5-9204-4096-b883-5aa4b695ed40",
   "metadata": {
    "tags": []
   },
   "outputs": [
    {
     "data": {
      "text/plain": [
       "17"
      ]
     },
     "execution_count": 2,
     "metadata": {},
     "output_type": "execute_result"
    }
   ],
   "source": [
    "# This a simple arithmetic expression to mutiply then add integers\n",
    "(3*4)+5"
   ]
  },
  {
   "cell_type": "code",
   "execution_count": 4,
   "id": "82eff3e8-ea37-4f94-9067-d0e752fc8eab",
   "metadata": {
    "tags": []
   },
   "outputs": [
    {
     "data": {
      "text/plain": [
       "3.3333333333333335"
      ]
     },
     "execution_count": 4,
     "metadata": {},
     "output_type": "execute_result"
    }
   ],
   "source": [
    "# This will convert 200 minutes to hours by diving by 60\n",
    "200/60"
   ]
  },
  {
   "cell_type": "markdown",
   "id": "0235df97-74e8-4e68-a0db-9a14f000a95a",
   "metadata": {},
   "source": [
    "## Author\n",
    "Iryna Shmyhelska"
   ]
  },
  {
   "cell_type": "code",
   "execution_count": null,
   "id": "03d31358-2e82-437e-aec5-5a262b557364",
   "metadata": {},
   "outputs": [],
   "source": []
  }
 ],
 "metadata": {
  "kernelspec": {
   "display_name": "Python",
   "language": "python",
   "name": "conda-env-python-py"
  },
  "language_info": {
   "codemirror_mode": {
    "name": "ipython",
    "version": 3
   },
   "file_extension": ".py",
   "mimetype": "text/x-python",
   "name": "python",
   "nbconvert_exporter": "python",
   "pygments_lexer": "ipython3",
   "version": "3.7.12"
  }
 },
 "nbformat": 4,
 "nbformat_minor": 5
}
